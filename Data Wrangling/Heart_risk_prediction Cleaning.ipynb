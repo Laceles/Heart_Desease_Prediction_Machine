{
 "cells": [
  {
   "cell_type": "code",
   "execution_count": 1,
   "id": "405172c9",
   "metadata": {},
   "outputs": [],
   "source": [
    "import pandas as pd\n",
    "import numpy as np\n",
    "import seaborn as sns\n",
    "import matplotlib.pyplot as plt\n",
    "import plotly.express as px"
   ]
  },
  {
   "cell_type": "code",
   "execution_count": 2,
   "id": "c32125fc",
   "metadata": {},
   "outputs": [],
   "source": [
    "df1 = pd.read_csv('https://archive.ics.uci.edu/ml/machine-learning-databases/heart-disease/processed.cleveland.data')\n",
    "df2 = pd.read_csv('https://archive.ics.uci.edu/ml/machine-learning-databases/heart-disease/processed.hungarian.data')\n",
    "df3 = pd.read_csv('https://archive.ics.uci.edu/ml/machine-learning-databases/heart-disease/processed.switzerland.data')\n",
    "df4 = pd.read_csv('https://archive.ics.uci.edu/ml/machine-learning-databases/heart-disease/processed.va.data')"
   ]
  },
  {
   "cell_type": "code",
   "execution_count": 3,
   "id": "04b7b799",
   "metadata": {},
   "outputs": [],
   "source": [
    "#Creating the heading of dataset\n",
    "headline = ['age','sex','cp','trestbps','chol','fbs','restecg','thalach','exang','oldpeak','slope','ca','thal','num']"
   ]
  },
  {
   "cell_type": "code",
   "execution_count": 4,
   "id": "5406a743",
   "metadata": {},
   "outputs": [
    {
     "data": {
      "text/plain": [
       "((302, 14), (293, 14), (122, 14), (199, 14))"
      ]
     },
     "execution_count": 4,
     "metadata": {},
     "output_type": "execute_result"
    }
   ],
   "source": [
    "df1.shape,df2.shape,df3.shape,df4.shape,"
   ]
  },
  {
   "cell_type": "code",
   "execution_count": 5,
   "id": "5eaa4546",
   "metadata": {},
   "outputs": [],
   "source": [
    "#Adjusting the header data\n",
    "rowdf1 = list(df1.columns)\n",
    "rowdf2 = list(df2.columns)\n",
    "rowdf3 = list(df3.columns)\n",
    "rowdf4 = list(df4.columns)\n",
    "\n",
    "df1.loc[302] = rowdf1\n",
    "df1.columns = headline\n",
    "df2.loc[293] = rowdf2\n",
    "df2.columns = headline\n",
    "df3.loc[122] = rowdf3\n",
    "df3.columns = headline\n",
    "df4.loc[199] = rowdf4\n",
    "df4.columns = headline\n",
    "\n",
    "# Concatenating all datasets\n",
    "heart_db = pd.concat([df1,df2,df3,df4])"
   ]
  },
  {
   "cell_type": "code",
   "execution_count": 6,
   "id": "e464c338",
   "metadata": {},
   "outputs": [
    {
     "data": {
      "text/plain": [
       "((920, 14),\n",
       " age         object\n",
       " sex         object\n",
       " cp          object\n",
       " trestbps    object\n",
       " chol        object\n",
       " fbs         object\n",
       " restecg     object\n",
       " thalach     object\n",
       " exang       object\n",
       " oldpeak     object\n",
       " slope       object\n",
       " ca          object\n",
       " thal        object\n",
       " num         object\n",
       " dtype: object)"
      ]
     },
     "execution_count": 6,
     "metadata": {},
     "output_type": "execute_result"
    }
   ],
   "source": [
    "heart_db.shape, heart_db.dtypes"
   ]
  },
  {
   "cell_type": "code",
   "execution_count": 7,
   "id": "4133dc55",
   "metadata": {},
   "outputs": [
    {
     "name": "stdout",
     "output_type": "stream",
     "text": [
      "age : [67.0 37.0 41.0 56.0 62.0 57.0 63.0 53.0 44.0 52.0 48.0 54.0 49.0 64.0\n",
      " 58.0 60.0 50.0 66.0 43.0 40.0 69.0 59.0 42.0 55.0 61.0 65.0 71.0 51.0\n",
      " 46.0 45.0 39.0 68.0 47.0 34.0 35.0 29.0 70.0 77.0 38.0 74.0 76.0 '63.0'\n",
      " 30 31 32 33 36 '28' 72 73 '32' 75 '63']\n",
      "sex : [1.0 0.0 '1.0' '1']\n",
      "cp : [4.0 3.0 2.0 1.0 '1.0.1' '2' '1.1' '4']\n",
      "trestbps : [160.0 120.0 130.0 140.0 172.0 150.0 110.0 132.0 117.0 135.0 112.0 105.0\n",
      " 124.0 125.0 142.0 128.0 145.0 170.0 155.0 104.0 180.0 138.0 108.0 134.0\n",
      " 122.0 115.0 118.0 100.0 200.0 94.0 165.0 102.0 152.0 101.0 126.0 174.0\n",
      " 148.0 178.0 158.0 192.0 129.0 144.0 123.0 136.0 146.0 106.0 156.0 154.0\n",
      " 114.0 164.0 '145.0' '120' '140' '170' '100' '105' '110' '125' '130' '150'\n",
      " '98' '112' '145' '190' '160' '115' '142' '180' '132' '135' '?' '108'\n",
      " '124' '113' '122' '92' '118' '106' '200' '138' '136' '128' '155' '95'\n",
      " '165' '80' '185' '126' '152' '116' '0' '144' '154' '104' '134' '178'\n",
      " '146' '158' '102' '96' '172' '156' '114' '127']\n",
      "chol : [286.0 229.0 250.0 204.0 236.0 268.0 354.0 254.0 203.0 192.0 294.0 256.0\n",
      " 263.0 199.0 168.0 239.0 275.0 266.0 211.0 283.0 284.0 224.0 206.0 219.0\n",
      " 340.0 226.0 247.0 167.0 230.0 335.0 234.0 233.0 177.0 276.0 353.0 243.0\n",
      " 225.0 302.0 212.0 330.0 175.0 417.0 197.0 198.0 290.0 253.0 172.0 273.0\n",
      " 213.0 305.0 216.0 304.0 188.0 282.0 185.0 232.0 326.0 231.0 269.0 267.0\n",
      " 248.0 360.0 258.0 308.0 245.0 270.0 208.0 264.0 321.0 274.0 325.0 235.0\n",
      " 257.0 164.0 141.0 252.0 255.0 201.0 222.0 260.0 182.0 303.0 265.0 309.0\n",
      " 307.0 249.0 186.0 341.0 183.0 407.0 217.0 288.0 220.0 209.0 227.0 261.0\n",
      " 174.0 281.0 221.0 205.0 240.0 289.0 318.0 298.0 564.0 246.0 322.0 299.0\n",
      " 300.0 293.0 277.0 214.0 207.0 223.0 160.0 394.0 184.0 315.0 409.0 244.0\n",
      " 195.0 196.0 126.0 313.0 259.0 200.0 262.0 215.0 228.0 193.0 271.0 210.0\n",
      " 327.0 149.0 295.0 306.0 178.0 237.0 218.0 242.0 319.0 166.0 180.0 311.0\n",
      " 278.0 342.0 169.0 187.0 157.0 176.0 241.0 131.0 '233.0' '243' '?' '237'\n",
      " '219' '198' '225' '254' '298' '161' '214' '220' '160' '167' '308' '264'\n",
      " '166' '340' '209' '260' '211' '173' '283' '194' '223' '315' '275' '297'\n",
      " '292' '182' '200' '204' '241' '339' '147' '273' '307' '289' '215' '281'\n",
      " '250' '184' '245' '291' '295' '269' '196' '268' '228' '358' '201' '249'\n",
      " '266' '186' '207' '218' '412' '224' '238' '230' '163' '240' '280' '257'\n",
      " '263' '276' '284' '195' '227' '253' '187' '202' '328' '168' '216' '129'\n",
      " '190' '188' '179' '210' '272' '180' '100' '259' '468' '274' '320' '221'\n",
      " '309' '312' '171' '208' '246' '305' '217' '365' '344' '394' '256' '326'\n",
      " '277' '270' '229' '85' '347' '251' '222' '287' '318' '213' '294' '193'\n",
      " '271' '156' '267' '282' '117' '466' '247' '226' '265' '206' '288' '303'\n",
      " '338' '248' '306' '529' '392' '231' '329' '355' '233' '242' '603' '255'\n",
      " '172' '175' '290' '341' '234' '342' '404' '518' '285' '279' '388' '164'\n",
      " '336' '491' '205' '212' '331' '393' '132' 0 '0' '236' '177' '203' '153'\n",
      " '316' '311' '252' '458' '384' '258' '235' '349' '142' '197' '192' '261'\n",
      " '181' '310' '232' '170' '369' '244' '165' '337' '300' '333' '139' '385']\n",
      "fbs : [0.0 1.0 '1.0.2' '0' '?' '1']\n",
      "restecg : [2.0 0.0 1.0 '2.0' '0' '1' '2' '?' '2.1' '0.1' '1.1']\n",
      "thalach : [108.0 129.0 187.0 172.0 178.0 160.0 163.0 147.0 155.0 148.0 153.0 142.0\n",
      " 173.0 162.0 174.0 168.0 139.0 171.0 144.0 132.0 158.0 114.0 151.0 161.0\n",
      " 179.0 120.0 112.0 137.0 157.0 169.0 165.0 123.0 128.0 152.0 140.0 188.0\n",
      " 109.0 125.0 131.0 170.0 113.0 99.0 177.0 141.0 180.0 111.0 143.0 182.0\n",
      " 150.0 156.0 115.0 149.0 145.0 146.0 175.0 186.0 185.0 159.0 130.0 190.0\n",
      " 136.0 97.0 127.0 154.0 133.0 126.0 202.0 103.0 166.0 164.0 184.0 124.0\n",
      " 122.0 96.0 138.0 88.0 105.0 194.0 195.0 106.0 167.0 95.0 192.0 117.0\n",
      " 121.0 116.0 71.0 118.0 181.0 134.0 90.0 '150.0' '160' '170' '150' '165'\n",
      " '184' '155' '185' '190' '168' '180' '178' '172' '130' '142' '98' '158'\n",
      " '129' '146' '145' '120' '106' '132' '140' '138' '167' '188' '144' '137'\n",
      " '136' '152' '175' '176' '118' '154' '115' '135' '122' '110' '90' '116'\n",
      " '174' '125' '?' '148' '100' '164' '139' '127' '162' '112' '134' '114'\n",
      " '128' '126' '124' '153' '166' '103' '156' '87' '102' '92' '99' '121' '91'\n",
      " '108' '96' '82' '105' '143' '119' '94' '179' '133' '113' '149' '104'\n",
      " '163' '60' '95' '141' '83' '97' '131' '182' '63' '70' '77' '117' '123'\n",
      " '72' '78' '109' '86' '93' '67' '157' '84' '111' '80' '107' '161' '69'\n",
      " '88' '73' '159' '151']\n",
      "exang : [1.0 0.0 '0.0' '0' '1' '?' '0.1' '0.2' '1.2']\n",
      "oldpeak : [1.5 2.6 3.5 1.4 0.8 3.6 0.6 3.1 0.4 1.3 0.0 0.5 1.6 1.0 1.2 0.2 1.8 3.2\n",
      " 2.4 2.0 2.5 2.2 2.8 3.0 3.4 6.2 4.0 5.6 2.9 0.1 2.1 1.9 4.2 0.9 1.1 3.8\n",
      " 0.7 0.3 2.3 4.4 '2.3' 5.0 '0.2' '.2' '?' '1' '2.8' '0' '-1.1' '1.6'\n",
      " '-1.5' '1.5' '2' '.5' '-.1' '-2.6' '2.1' '.7' '-.7' '2.2' '3' '.1' '.3'\n",
      " '-2' '-1' '1.8' '1.4' '2.6' '.9' '2.4' '1.1' '.4' '2.5' '1.7' '-.8' '-.5'\n",
      " '-.9' '3.7' '1.3' '-0.5' '0.5' '4' '3.5' '0.8']\n",
      "slope : [2.0 3.0 1.0 '3.0' '?' '2' '1' '3' '1.2']\n",
      "ca : ['3.0' '2.0' '0.0' '1.0' '?' '0.0.1' '0' '?.1' '1' '2']\n",
      "thal : ['3.0' '7.0' '6.0' '?' '6' '3' '7' '?.2' '?.1']\n",
      "num : [2 1 0 3 4 '0' '0.3' '1.3' '2.1']\n"
     ]
    }
   ],
   "source": [
    "# Compiling the unique values of each of the variables\n",
    "\n",
    "colunas = list(heart_db.columns)\n",
    "\n",
    "for x in colunas: \n",
    "  print(x,':', heart_db[x].unique())"
   ]
  },
  {
   "cell_type": "markdown",
   "id": "9cb27ec3",
   "metadata": {},
   "source": [
    "## Cleaning and correcting all datasets"
   ]
  },
  {
   "cell_type": "markdown",
   "id": "d5e9581f",
   "metadata": {},
   "source": [
    "CP\n",
    "Type of chest pain.\n",
    "* 0: Asymptomatic\n",
    "* 1: Atypical ischemia\n",
    "* 2: Non-anginal pain\n",
    "* 3: Typical ischemia"
   ]
  },
  {
   "cell_type": "code",
   "execution_count": 8,
   "id": "9e2c0031",
   "metadata": {},
   "outputs": [
    {
     "data": {
      "text/plain": [
       "array([4, 3, 2, 1])"
      ]
     },
     "execution_count": 8,
     "metadata": {},
     "output_type": "execute_result"
    }
   ],
   "source": [
    "# CP: chester pain\n",
    "heart_db['cp'] = heart_db['cp'].replace(['1.0.1','1.1'], 1, regex = True)\n",
    "heart_db['cp'] = heart_db['cp'].astype(float)\n",
    "heart_db['cp'] = heart_db['cp'].astype(int)\n",
    "heart_db['cp'].unique()"
   ]
  },
  {
   "cell_type": "markdown",
   "id": "37c1e075",
   "metadata": {},
   "source": [
    "Age"
   ]
  },
  {
   "cell_type": "code",
   "execution_count": 9,
   "id": "5fb752e1",
   "metadata": {},
   "outputs": [],
   "source": [
    "# Age\n",
    "heart_db['age'] = heart_db['age'].astype(float)\n",
    "heart_db['age'] = heart_db['age'].astype(int)"
   ]
  },
  {
   "cell_type": "markdown",
   "id": "28b0e6d6",
   "metadata": {},
   "source": [
    "Sex"
   ]
  },
  {
   "cell_type": "code",
   "execution_count": 10,
   "id": "b58f37bc",
   "metadata": {},
   "outputs": [
    {
     "data": {
      "text/plain": [
       "array([1, 0])"
      ]
     },
     "execution_count": 10,
     "metadata": {},
     "output_type": "execute_result"
    }
   ],
   "source": [
    "# Sex\n",
    "heart_db['sex'] = heart_db['sex'].astype(float)\n",
    "heart_db['sex'] = heart_db['sex'].astype(int)\n",
    "heart_db['sex'].unique()"
   ]
  },
  {
   "cell_type": "markdown",
   "id": "6952f852",
   "metadata": {},
   "source": [
    "Trestbps: Blood pressure in resting"
   ]
  },
  {
   "cell_type": "code",
   "execution_count": 11,
   "id": "640e2b1e",
   "metadata": {},
   "outputs": [
    {
     "name": "stdout",
     "output_type": "stream",
     "text": [
      "861\n",
      "861\n",
      "920 \n",
      " 132.1\n"
     ]
    }
   ],
   "source": [
    "# Trestbps: Blood pressure in resting\n",
    "key =[]\n",
    "key2=[]\n",
    "key3=[]\n",
    "X = heart_db['trestbps'].tolist()\n",
    "for i in X:\n",
    "  if i != '?':\n",
    "    key.append(i)\n",
    "print(len(key))\n",
    "for e in key:\n",
    "    if type(e)==str:\n",
    "      e = float(e)\n",
    "      key2.append(e)\n",
    "    else:\n",
    "      key2.append(e)\n",
    "    media = round(sum(key2)/len(key2),1)\n",
    "print(len(key2))\n",
    "for a in X:\n",
    "  if a == '?':\n",
    "    a = media\n",
    "    key3.append(a)\n",
    "  elif type(a) == str:\n",
    "    a = float(a)\n",
    "    key3.append(a)\n",
    "  else:\n",
    "    key3.append(a)\n",
    "\n",
    "print(len(key3),'\\n',media)"
   ]
  },
  {
   "cell_type": "code",
   "execution_count": 12,
   "id": "79ba0fe4",
   "metadata": {},
   "outputs": [],
   "source": [
    "heart_db['trestbps'] = key3"
   ]
  },
  {
   "cell_type": "markdown",
   "id": "2c84c245",
   "metadata": {},
   "source": [
    "Cholesterol"
   ]
  },
  {
   "cell_type": "code",
   "execution_count": 13,
   "id": "ad5ca787",
   "metadata": {},
   "outputs": [
    {
     "data": {
      "text/plain": [
       "dict_keys([160.0, 120.0, 130.0, 140.0, 172.0, 150.0, 110.0, 132.0, 117.0, 135.0, 112.0, 105.0, 124.0, 125.0, 142.0, 128.0, 145.0, 170.0, 155.0, 104.0, 180.0, 138.0, 108.0, 134.0, 122.0, 115.0, 118.0, 100.0, 200.0, 94.0, 165.0, 102.0, 152.0, 101.0, 126.0, 174.0, 148.0, 178.0, 158.0, 192.0, 129.0, 144.0, 123.0, 136.0, 146.0, 106.0, 156.0, 154.0, 114.0, 164.0, 98.0, 190.0, 132.1, 113.0, 92.0, 95.0, 80.0, 185.0, 116.0, 0.0, 96.0, 127.0])"
      ]
     },
     "execution_count": 13,
     "metadata": {},
     "output_type": "execute_result"
    }
   ],
   "source": [
    "# Chol\n",
    "from collections import Counter\n",
    "x=list(heart_db['chol'])\n",
    "Counter(key3).keys()"
   ]
  },
  {
   "cell_type": "code",
   "execution_count": 14,
   "id": "c4c02df8",
   "metadata": {
    "scrolled": true
   },
   "outputs": [
    {
     "name": "stdout",
     "output_type": "stream",
     "text": [
      "890\n",
      "[286.0, 229.0, 250.0, 204.0, 236.0, 268.0, 354.0, 254.0, 203.0, 192.0, 294.0, 256.0, 263.0, 199.0, 168.0, 229.0, 239.0, 275.0, 266.0, 211.0, 283.0, 284.0, 224.0, 206.0, 219.0, 340.0, 226.0, 247.0, 167.0, 239.0, 230.0, 335.0, 234.0, 233.0, 226.0, 177.0, 276.0, 353.0, 243.0, 225.0, 199.0, 302.0, 212.0, 330.0, 230.0, 175.0, 243.0, 417.0, 197.0, 198.0, 177.0, 290.0, 219.0, 253.0, 266.0, 233.0, 172.0, 273.0, 213.0, 305.0, 177.0, 216.0, 304.0, 188.0, 282.0, 185.0, 232.0, 326.0, 231.0, 269.0, 254.0, 267.0, 248.0, 197.0, 360.0, 258.0, 308.0, 245.0, 270.0, 208.0, 264.0, 321.0, 274.0, 325.0, 235.0, 257.0, 216.0, 234.0, 256.0, 302.0, 164.0, 231.0, 141.0, 252.0, 255.0, 239.0, 258.0, 201.0, 222.0, 260.0, 182.0, 303.0, 265.0, 188.0, 309.0, 177.0, 229.0, 260.0, 219.0, 307.0, 249.0, 186.0, 341.0, 263.0, 203.0, 211.0, 183.0, 330.0, 254.0, 256.0, 407.0, 222.0, 217.0, 282.0, 234.0, 288.0, 239.0, 220.0, 209.0, 258.0, 227.0, 204.0, 261.0, 213.0, 250.0, 174.0, 281.0, 198.0, 245.0, 221.0, 288.0, 205.0, 309.0, 240.0, 243.0, 289.0, 250.0, 308.0, 318.0, 298.0, 265.0, 564.0, 289.0, 246.0, 322.0, 299.0, 300.0, 293.0, 277.0, 197.0, 304.0, 214.0, 248.0, 255.0, 207.0, 223.0, 288.0, 282.0, 160.0, 269.0, 226.0, 249.0, 394.0, 212.0, 274.0, 233.0, 184.0, 315.0, 246.0, 274.0, 409.0, 244.0, 270.0, 305.0, 195.0, 240.0, 246.0, 283.0, 254.0, 196.0, 298.0, 247.0, 294.0, 211.0, 299.0, 234.0, 236.0, 244.0, 273.0, 254.0, 325.0, 126.0, 313.0, 211.0, 309.0, 259.0, 200.0, 262.0, 244.0, 215.0, 231.0, 214.0, 228.0, 230.0, 193.0, 204.0, 243.0, 303.0, 271.0, 268.0, 267.0, 199.0, 282.0, 269.0, 210.0, 204.0, 277.0, 206.0, 212.0, 196.0, 327.0, 149.0, 269.0, 201.0, 286.0, 283.0, 249.0, 271.0, 295.0, 235.0, 306.0, 269.0, 234.0, 178.0, 237.0, 234.0, 275.0, 212.0, 208.0, 201.0, 218.0, 263.0, 295.0, 303.0, 209.0, 223.0, 197.0, 245.0, 261.0, 242.0, 319.0, 240.0, 226.0, 166.0, 315.0, 204.0, 218.0, 223.0, 180.0, 207.0, 228.0, 311.0, 149.0, 204.0, 227.0, 278.0, 220.0, 232.0, 197.0, 335.0, 253.0, 205.0, 192.0, 203.0, 318.0, 225.0, 220.0, 221.0, 240.0, 212.0, 342.0, 169.0, 187.0, 197.0, 157.0, 176.0, 241.0, 264.0, 193.0, 131.0, 236.0, 175.0, 233.0, 243.0, 237.0, 219.0, 198.0, 225.0, 254.0, 298.0, 161.0, 214.0, 220.0, 160.0, 167.0, 308.0, 264.0, 166.0, 340.0, 209.0, 160.0, 260.0, 211.0, 173.0, 283.0, 194.0, 223.0, 315.0, 275.0, 297.0, 292.0, 182.0, 200.0, 204.0, 241.0, 339.0, 147.0, 273.0, 307.0, 275.0, 289.0, 215.0, 281.0, 250.0, 184.0, 245.0, 291.0, 295.0, 269.0, 250.0, 211.0, 196.0, 198.0, 268.0, 228.0, 147.0, 358.0, 223.0, 201.0, 215.0, 249.0, 266.0, 186.0, 207.0, 218.0, 184.0, 215.0, 412.0, 237.0, 297.0, 224.0, 225.0, 224.0, 238.0, 275.0, 230.0, 163.0, 238.0, 240.0, 280.0, 257.0, 249.0, 263.0, 276.0, 308.0, 284.0, 195.0, 163.0, 254.0, 227.0, 245.0, 238.0, 211.0, 201.0, 207.0, 253.0, 187.0, 297.0, 202.0, 328.0, 168.0, 216.0, 209.0, 129.0, 215.0, 194.0, 190.0, 220.0, 200.0, 188.0, 224.0, 179.0, 210.0, 272.0, 180.0, 284.0, 100.0, 196.0, 259.0, 468.0, 216.0, 274.0, 320.0, 195.0, 260.0, 182.0, 243.0, 221.0, 230.0, 273.0, 253.0, 309.0, 230.0, 312.0, 171.0, 208.0, 238.0, 246.0, 195.0, 305.0, 217.0, 365.0, 344.0, 320.0, 394.0, 256.0, 196.0, 326.0, 277.0, 220.0, 270.0, 229.0, 219.0, 184.0, 276.0, 85.0, 308.0, 347.0, 260.0, 230.0, 251.0, 179.0, 222.0, 188.0, 287.0, 318.0, 213.0, 246.0, 294.0, 292.0, 193.0, 271.0, 270.0, 246.0, 156.0, 257.0, 267.0, 207.0, 196.0, 282.0, 117.0, 466.0, 289.0, 237.0, 247.0, 202.0, 186.0, 277.0, 193.0, 226.0, 263.0, 260.0, 268.0, 180.0, 265.0, 206.0, 288.0, 264.0, 303.0, 225.0, 216.0, 224.0, 201.0, 265.0, 213.0, 338.0, 248.0, 223.0, 306.0, 529.0, 280.0, 392.0, 291.0, 219.0, 231.0, 222.0, 275.0, 193.0, 329.0, 355.0, 233.0, 182.0, 246.0, 237.0, 242.0, 603.0, 198.0, 268.0, 213.0, 255.0, 211.0, 263.0, 172.0, 175.0, 288.0, 290.0, 272.0, 248.0, 214.0, 341.0, 234.0, 160.0, 342.0, 298.0, 404.0, 246.0, 518.0, 285.0, 216.0, 295.0, 292.0, 248.0, 279.0, 230.0, 388.0, 164.0, 264.0, 263.0, 336.0, 288.0, 491.0, 205.0, 291.0, 212.0, 222.0, 231.0, 341.0, 266.0, 331.0, 294.0, 342.0, 393.0, 275.0, 132.0, 0, 0, 0, 0, 0, 0, 0, 0, 0, 0, 0, 0, 0, 0, 0, 0, 0, 0, 0, 0, 0, 0, 0, 0, 0, 0, 0, 0, 0, 0, 0, 0, 0, 0, 0, 0, 0, 0, 0, 0, 0, 0, 0, 0, 0, 0, 0, 0, 0, 0, 0, 0, 0, 0, 0, 0, 0, 0, 0, 0, 0, 0, 0, 0, 0, 0, 0, 0, 0, 0, 0, 0, 0, 0, 0, 0, 0, 0, 0, 0, 0, 0, 0, 0, 0, 0, 0, 0, 0, 0, 0, 0, 0, 0, 0, 0, 0, 0, 0, 0, 0, 0, 0, 0, 0, 0, 0, 0, 0, 0, 0, 0, 0, 0, 0, 0, 0, 0, 0, 0, 0, 0, 0.0, 209.0, 218.0, 228.0, 213.0, 0.0, 236.0, 0.0, 0.0, 267.0, 166.0, 0.0, 0.0, 0.0, 0.0, 220.0, 177.0, 236.0, 0.0, 0.0, 0.0, 0.0, 0.0, 0.0, 0.0, 0.0, 0.0, 186.0, 100.0, 228.0, 0.0, 171.0, 230.0, 0.0, 0.0, 0.0, 281.0, 0.0, 203.0, 0.0, 0.0, 0.0, 0.0, 0.0, 277.0, 0.0, 233.0, 0.0, 0.0, 240.0, 0.0, 0.0, 153.0, 224.0, 0.0, 0.0, 0.0, 316.0, 0.0, 0.0, 218.0, 0.0, 311.0, 0.0, 0.0, 0.0, 270.0, 0.0, 0.0, 217.0, 214.0, 214.0, 252.0, 220.0, 214.0, 203.0, 0.0, 339.0, 216.0, 276.0, 458.0, 241.0, 384.0, 297.0, 248.0, 308.0, 208.0, 227.0, 210.0, 245.0, 225.0, 240.0, 0.0, 198.0, 195.0, 267.0, 161.0, 258.0, 0.0, 0.0, 195.0, 235.0, 0.0, 305.0, 223.0, 282.0, 349.0, 160.0, 236.0, 312.0, 283.0, 142.0, 211.0, 218.0, 306.0, 186.0, 252.0, 222.0, 0.0, 0.0, 258.0, 202.0, 197.0, 204.0, 274.0, 192.0, 298.0, 272.0, 220.0, 200.0, 261.0, 181.0, 260.0, 220.0, 221.0, 216.0, 175.0, 219.0, 310.0, 208.0, 232.0, 273.0, 203.0, 182.0, 274.0, 204.0, 270.0, 292.0, 171.0, 221.0, 289.0, 217.0, 223.0, 193.0, 210.0, 282.0, 170.0, 369.0, 173.0, 289.0, 216.0, 271.0, 244.0, 285.0, 243.0, 240.0, 219.0, 237.0, 165.0, 213.0, 287.0, 258.0, 256.0, 186.0, 264.0, 226.0, 203.0, 207.0, 284.0, 337.0, 219.0, 310.0, 254.0, 258.0, 254.0, 300.0, 170.0, 310.0, 333.0, 139.0, 223.0, 385.0, 254.0, 260.0]\n",
      "920 \n",
      " 199.1\n"
     ]
    }
   ],
   "source": [
    "key =[]\n",
    "key2=[]\n",
    "key3=[]\n",
    "for i in x:\n",
    "  if i != '?':\n",
    "    key.append(i)\n",
    "print(len(key))\n",
    "for e in key:\n",
    "    if type(e)==str:\n",
    "      e = float(e)\n",
    "      key2.append(e)\n",
    "    else:\n",
    "      key2.append(e)\n",
    "media = round(sum(key2)/len(key2),1)\n",
    "print(key2)\n",
    "for a in x:\n",
    "  if a == '?':\n",
    "    a = media\n",
    "    key3.append(a)\n",
    "  elif type(a) == str:\n",
    "    a = float(a)\n",
    "    key3.append(a)\n",
    "  else:\n",
    "    key3.append(a)\n",
    "\n",
    "print(len(key3),'\\n',media)\n",
    "heart_db['chol'] = key3"
   ]
  },
  {
   "cell_type": "markdown",
   "id": "45c81163",
   "metadata": {},
   "source": [
    "FBS: fasting blood sugar"
   ]
  },
  {
   "cell_type": "code",
   "execution_count": 15,
   "id": "0ba5c876",
   "metadata": {},
   "outputs": [
    {
     "data": {
      "text/plain": [
       "(920, 920)"
      ]
     },
     "execution_count": 15,
     "metadata": {},
     "output_type": "execute_result"
    }
   ],
   "source": [
    "# FBS: fasting blood sugar\n",
    "x = heart_db['fbs'].tolist()\n",
    "#Counter(x).keys(), Counter(x).values()\n",
    "lista=[]\n",
    "for i in x:\n",
    "  if i == '1.0.2':\n",
    "    lista.append(1.0)\n",
    "  elif i == '0':\n",
    "    lista.append(0.0)\n",
    "  elif i == '1':\n",
    "    lista.append(1.0)\n",
    "  else:\n",
    "    lista.append(i)\n",
    "len(lista), len(x)"
   ]
  },
  {
   "cell_type": "code",
   "execution_count": 16,
   "id": "a6080579",
   "metadata": {},
   "outputs": [],
   "source": [
    "heart_db['fbs'] = lista\n",
    "# Logo em seguida é necessário filtrar os valores com '?' nessa coluna."
   ]
  },
  {
   "cell_type": "markdown",
   "id": "2cc84eec",
   "metadata": {},
   "source": [
    "Restecg: eletrocardiogram result in rest"
   ]
  },
  {
   "cell_type": "code",
   "execution_count": 17,
   "id": "53ed6ec2",
   "metadata": {},
   "outputs": [
    {
     "data": {
      "text/plain": [
       "(dict_keys([2.0, 0.0, 1.0, '2.0', '0', '1', '2', '?', '2.1', '0.1', '1.1']),\n",
       " dict_values([174, 231, 96, 1, 319, 82, 12, 2, 1, 1, 1]))"
      ]
     },
     "execution_count": 17,
     "metadata": {},
     "output_type": "execute_result"
    }
   ],
   "source": [
    "#Restecg: eletrocardiogram result in rest\n",
    "\n",
    "x=list(heart_db['restecg'])\n",
    "Counter(x).keys(), Counter(x).values()"
   ]
  },
  {
   "cell_type": "code",
   "execution_count": 18,
   "id": "695f2e06",
   "metadata": {},
   "outputs": [
    {
     "name": "stdout",
     "output_type": "stream",
     "text": [
      "920\n",
      "[2.0 0.0 1.0 '?']\n",
      "dict_keys([2.0, 0.0, 1.0, '?'])\n"
     ]
    }
   ],
   "source": [
    "lista2 = []\n",
    "\n",
    "for i in x:\n",
    "  if i == 1.0 or i == '1' or i == '1.1':\n",
    "    lista2.append(1.0)\n",
    "  elif i == 2.0 or i =='2.0'or i=='2' or i=='2.1':\n",
    "    lista2.append(2.0)\n",
    "  elif i == 0.0 or i=='0' or i=='0.1':\n",
    "    lista2.append(0.0)\n",
    "  else:\n",
    "    lista2.append(i)\n",
    "print(len(lista2))\n",
    "\n",
    "heart_db['restecg']=lista2\n",
    "print(heart_db['restecg'].unique())\n",
    "print(Counter(lista2).keys())"
   ]
  },
  {
   "cell_type": "markdown",
   "id": "c4cb8b74",
   "metadata": {},
   "source": [
    "Tahalch: Maximum heart frequence"
   ]
  },
  {
   "cell_type": "code",
   "execution_count": 19,
   "id": "01cc9971",
   "metadata": {},
   "outputs": [],
   "source": [
    "# Tahalch: Maximum heart frequence\n",
    "heart_db['thalach'].head()\n",
    "x=list(heart_db['thalach'])"
   ]
  },
  {
   "cell_type": "code",
   "execution_count": 20,
   "id": "3c566472",
   "metadata": {},
   "outputs": [
    {
     "name": "stdout",
     "output_type": "stream",
     "text": [
      "865\n",
      "865\n",
      "920 \n",
      " 137.5\n"
     ]
    }
   ],
   "source": [
    "key =[]\n",
    "key2=[]\n",
    "key3=[]\n",
    "X = heart_db['thalach'].tolist()\n",
    "for i in X:\n",
    "  if i != '?':\n",
    "    key.append(i)\n",
    "print(len(key))\n",
    "for e in key:\n",
    "    if type(e)==str:\n",
    "      e = float(e)\n",
    "      key2.append(e)\n",
    "    else:\n",
    "      key2.append(e)\n",
    "    media = round(sum(key2)/len(key2),1)\n",
    "print(len(key2))\n",
    "for a in X:\n",
    "  if a == '?':\n",
    "    a = media\n",
    "    key3.append(a)\n",
    "  elif type(a) == str:\n",
    "    a = float(a)\n",
    "    key3.append(a)\n",
    "  else:\n",
    "    key3.append(a)\n",
    "\n",
    "print(len(key3),'\\n',media)"
   ]
  },
  {
   "cell_type": "code",
   "execution_count": 21,
   "id": "a8d5a118",
   "metadata": {},
   "outputs": [],
   "source": [
    "heart_db['thalach'] = key3"
   ]
  },
  {
   "cell_type": "markdown",
   "id": "ee134631",
   "metadata": {},
   "source": [
    "Exang: pain induced by exercise"
   ]
  },
  {
   "cell_type": "code",
   "execution_count": 22,
   "id": "92f340ef",
   "metadata": {},
   "outputs": [
    {
     "data": {
      "text/plain": [
       "dict_keys([1.0, 0.0, '0.0', '0', '1', '?', '0.1', '0.2', '1.2'])"
      ]
     },
     "execution_count": 22,
     "metadata": {},
     "output_type": "execute_result"
    }
   ],
   "source": [
    "# Exang: pain induced by exercise\n",
    "x=list(heart_db['exang'])\n",
    "Counter(x).keys()"
   ]
  },
  {
   "cell_type": "code",
   "execution_count": 23,
   "id": "490f4fb6",
   "metadata": {},
   "outputs": [
    {
     "name": "stdout",
     "output_type": "stream",
     "text": [
      "920 920\n"
     ]
    },
    {
     "data": {
      "text/plain": [
       "array([1.0, 0.0, '?'], dtype=object)"
      ]
     },
     "execution_count": 23,
     "metadata": {},
     "output_type": "execute_result"
    }
   ],
   "source": [
    "lista=[]\n",
    "um = [1.0,'1','1.2']\n",
    "zero =[0.0, '0.0', '0','0.1','0.2']\n",
    "for i in x:\n",
    "  if i == 1.0 or i == '1' or i=='1.2':\n",
    "    lista.append(1.0)\n",
    "  elif i== 0.0 or i== '0.0' or i== '0' or i=='0.1' or i=='0.2':\n",
    "    lista.append(0.0)\n",
    "  else:\n",
    "    lista.append(i)\n",
    "print(len(lista), len(x))\n",
    "\n",
    "heart_db['exang']=lista\n",
    "heart_db['exang'].unique()"
   ]
  },
  {
   "cell_type": "markdown",
   "id": "79cb7457",
   "metadata": {},
   "source": [
    "Oldpeak: DP depression induced by exercize in relation to rest"
   ]
  },
  {
   "cell_type": "code",
   "execution_count": 24,
   "id": "5c372f2f",
   "metadata": {},
   "outputs": [
    {
     "data": {
      "text/plain": [
       "dict_keys([1.5, 2.6, 3.5, 1.4, 0.8, 3.6, 0.6, 3.1, 0.4, 1.3, 0.0, 0.5, 1.6, 1.0, 1.2, 0.2, 1.8, 3.2, 2.4, 2.0, 2.5, 2.2, 2.8, 3.0, 3.4, 6.2, 4.0, 5.6, 2.9, 0.1, 2.1, 1.9, 4.2, 0.9, 1.1, 3.8, 0.7, 0.3, 2.3, 4.4, '2.3', 5.0, '0.2', '.2', '?', '1', '2.8', '0', '-1.1', '1.6', '-1.5', '1.5', '2', '.5', '-.1', '-2.6', '2.1', '.7', '-.7', '2.2', '3', '.1', '.3', '-2', '-1', '1.8', '1.4', '2.6', '.9', '2.4', '1.1', '.4', '2.5', '1.7', '-.8', '-.5', '-.9', '3.7', '1.3', '-0.5', '0.5', '4', '3.5', '0.8'])"
      ]
     },
     "execution_count": 24,
     "metadata": {},
     "output_type": "execute_result"
    }
   ],
   "source": [
    "# Oldpeak: DP depression induced by exercize in relation to rest\n",
    "x=list(heart_db['oldpeak'])\n",
    "Counter(x).keys()"
   ]
  },
  {
   "cell_type": "code",
   "execution_count": 25,
   "id": "914880c0",
   "metadata": {},
   "outputs": [
    {
     "name": "stdout",
     "output_type": "stream",
     "text": [
      "920 \n",
      " 0.9\n"
     ]
    }
   ],
   "source": [
    "lista = []\n",
    "lista2=[]\n",
    "lista3=[]\n",
    "for i in x:\n",
    "  if i != '?':\n",
    "    lista.append(i)\n",
    "for i in lista:\n",
    "  if type(i) == str:\n",
    "    i=float(i)\n",
    "    lista2.append(i)\n",
    "  else:\n",
    "    lista2.append(i)\n",
    "media = round(sum(lista2)/len(lista2),1)\n",
    "for a in x:\n",
    "  if a == '?':\n",
    "    a = media\n",
    "    lista3.append(a)\n",
    "  elif type(a) == str:\n",
    "    a = float(a)\n",
    "    lista3.append(a)\n",
    "  else:\n",
    "    lista3.append(a)\n",
    "\n",
    "print(len(lista3),'\\n',media)\n",
    "heart_db['oldpeak']=lista3"
   ]
  },
  {
   "cell_type": "markdown",
   "id": "78396390",
   "metadata": {},
   "source": [
    "Slope: St slope in peak of exercize"
   ]
  },
  {
   "cell_type": "code",
   "execution_count": 26,
   "id": "9635f180",
   "metadata": {},
   "outputs": [
    {
     "data": {
      "text/plain": [
       "dict_keys([2.0, 3.0, 1.0, '3.0', '?', '2', '1', '3', '1.2'])"
      ]
     },
     "execution_count": 26,
     "metadata": {},
     "output_type": "execute_result"
    }
   ],
   "source": [
    "# Slope: St slope in peak of exercize \n",
    "x=list(heart_db['slope'])\n",
    "Counter(x).keys()"
   ]
  },
  {
   "cell_type": "code",
   "execution_count": 27,
   "id": "e684f2e5",
   "metadata": {},
   "outputs": [
    {
     "name": "stdout",
     "output_type": "stream",
     "text": [
      "920\n"
     ]
    },
    {
     "data": {
      "text/plain": [
       "array(['flat', 'downsloping', 'upsloping', '?'], dtype=object)"
      ]
     },
     "execution_count": 27,
     "metadata": {},
     "output_type": "execute_result"
    }
   ],
   "source": [
    "lista=[]\n",
    "\n",
    "\n",
    "for i in x:\n",
    "  if i == 1.0 or i == '1' or i == '1.2':\n",
    "    lista.append('upsloping')\n",
    "  elif i == 2.0 or i == '2':\n",
    "    lista.append('flat')\n",
    "  elif i == 3.0 or i == '3' or i =='3.0':\n",
    "    lista.append('downsloping')\n",
    "  else:\n",
    "    lista.append(i)\n",
    "print(len(lista))\n",
    "\n",
    "heart_db['slope']=lista\n",
    "heart_db['slope'].unique()"
   ]
  },
  {
   "cell_type": "markdown",
   "id": "7f2d6f02",
   "metadata": {},
   "source": [
    "CA: Number of major vessels"
   ]
  },
  {
   "cell_type": "code",
   "execution_count": 28,
   "id": "5e8b5275",
   "metadata": {},
   "outputs": [
    {
     "data": {
      "text/plain": [
       "dict_keys(['3.0', '2.0', '0.0', '1.0', '?', '0.0.1', '0', '?.1', '1', '2'])"
      ]
     },
     "execution_count": 28,
     "metadata": {},
     "output_type": "execute_result"
    }
   ],
   "source": [
    "# CA: Number of major vessels\n",
    "y=list(heart_db['ca'])\n",
    "Counter(y).keys()"
   ]
  },
  {
   "cell_type": "code",
   "execution_count": 29,
   "id": "dbe14751",
   "metadata": {},
   "outputs": [
    {
     "name": "stdout",
     "output_type": "stream",
     "text": [
      "920\n"
     ]
    },
    {
     "data": {
      "text/plain": [
       "array([3, 2, '?', 1, 0], dtype=object)"
      ]
     },
     "execution_count": 29,
     "metadata": {},
     "output_type": "execute_result"
    }
   ],
   "source": [
    "listay=[]\n",
    "for i in y:\n",
    "  if i == '0' or i == '0.0.1':\n",
    "    listay.append(0)\n",
    "  elif i == '1.0' or i == '1':\n",
    "    listay.append(1)\n",
    "  elif i == '2' or i == '2.0':\n",
    "    listay.append(2)\n",
    "  elif i == '0' or i == '3.0':\n",
    "    listay.append(3)\n",
    "  else:\n",
    "    listay.append('?')\n",
    "print(len(listay))\n",
    "heart_db['ca'] = listay\n",
    "heart_db['ca'].unique()"
   ]
  },
  {
   "cell_type": "markdown",
   "id": "b724fd2d",
   "metadata": {},
   "source": [
    "Kind of damage"
   ]
  },
  {
   "cell_type": "code",
   "execution_count": 30,
   "id": "15c1d0f9",
   "metadata": {},
   "outputs": [
    {
     "data": {
      "text/plain": [
       "dict_keys(['3.0', '7.0', '6.0', '?', '6', '3', '7', '?.2', '?.1'])"
      ]
     },
     "execution_count": 30,
     "metadata": {},
     "output_type": "execute_result"
    }
   ],
   "source": [
    "# Thal\n",
    "y=list(heart_db['thal'])\n",
    "Counter(y).keys()"
   ]
  },
  {
   "cell_type": "code",
   "execution_count": 31,
   "id": "315c4c18",
   "metadata": {},
   "outputs": [
    {
     "name": "stdout",
     "output_type": "stream",
     "text": [
      "920\n"
     ]
    },
    {
     "data": {
      "text/plain": [
       "array(['normal', 'reversable defect', 'fixed defect', '?'], dtype=object)"
      ]
     },
     "execution_count": 31,
     "metadata": {},
     "output_type": "execute_result"
    }
   ],
   "source": [
    "# Thal\n",
    "lista=[]\n",
    "for i in y:\n",
    "  if i == '3.0' or i == '3':\n",
    "    lista.append('normal')\n",
    "  elif i == '6.0' or i == '6':\n",
    "    lista.append('fixed defect')\n",
    "  elif i == '7' or i =='7.0':\n",
    "    lista.append('reversable defect')\n",
    "  else:\n",
    "    lista.append('?')\n",
    "print(len(lista))\n",
    "\n",
    "heart_db['thal']=lista\n",
    "heart_db['thal'].unique()"
   ]
  },
  {
   "cell_type": "code",
   "execution_count": 32,
   "id": "87029f8b",
   "metadata": {},
   "outputs": [
    {
     "name": "stdout",
     "output_type": "stream",
     "text": [
      "920\n"
     ]
    },
    {
     "data": {
      "text/plain": [
       "array(['?', 'Cardíaco', 'Nao Cardíaco'], dtype=object)"
      ]
     },
     "execution_count": 32,
     "metadata": {},
     "output_type": "execute_result"
    }
   ],
   "source": [
    "# Num: Target\n",
    "x=heart_db['num'].tolist()\n",
    "lista=[]\n",
    "for i in x:\n",
    "  if i == 1 or i =='1.3':\n",
    "    lista.append('Cardíaco')\n",
    "  elif i == 0 or i =='0' or i =='0.3':\n",
    "    lista.append('Nao Cardíaco')\n",
    "  else:\n",
    "    lista.append('?')\n",
    "print(len(lista))\n",
    "heart_db['num']=lista\n",
    "heart_db['num'].unique()"
   ]
  },
  {
   "cell_type": "markdown",
   "id": "896b07d4",
   "metadata": {},
   "source": [
    "### Counting and handling null values"
   ]
  },
  {
   "cell_type": "code",
   "execution_count": 33,
   "id": "5a89df39",
   "metadata": {},
   "outputs": [],
   "source": [
    "ds_categoric = heart_db.iloc[:,[1,2,5,6,8,10,11,12,13]]\n",
    "ds_floats = heart_db.iloc[:,[0,3,4,7,9]]\n",
    "colunas_numeric=ds_floats.columns\n",
    "colunas_categoric=ds_categoric.columns"
   ]
  },
  {
   "cell_type": "code",
   "execution_count": 34,
   "id": "b6eed3fc",
   "metadata": {},
   "outputs": [
    {
     "name": "stdout",
     "output_type": "stream",
     "text": [
      "<class 'pandas.core.frame.DataFrame'>\n",
      "Int64Index: 920 entries, 0 to 199\n",
      "Data columns (total 9 columns):\n",
      " #   Column   Non-Null Count  Dtype \n",
      "---  ------   --------------  ----- \n",
      " 0   sex      920 non-null    object\n",
      " 1   cp       920 non-null    object\n",
      " 2   fbs      920 non-null    object\n",
      " 3   restecg  920 non-null    object\n",
      " 4   exang    920 non-null    object\n",
      " 5   slope    920 non-null    object\n",
      " 6   ca       920 non-null    object\n",
      " 7   thal     920 non-null    object\n",
      " 8   num      920 non-null    object\n",
      "dtypes: object(9)\n",
      "memory usage: 71.9+ KB\n"
     ]
    },
    {
     "name": "stderr",
     "output_type": "stream",
     "text": [
      "C:\\Users\\rodol\\AppData\\Local\\Temp\\ipykernel_10544\\1817461545.py:3: SettingWithCopyWarning: \n",
      "A value is trying to be set on a copy of a slice from a DataFrame.\n",
      "Try using .loc[row_indexer,col_indexer] = value instead\n",
      "\n",
      "See the caveats in the documentation: https://pandas.pydata.org/pandas-docs/stable/user_guide/indexing.html#returning-a-view-versus-a-copy\n",
      "  ds_categoric[i]=ds_categoric[i].astype(object)\n"
     ]
    }
   ],
   "source": [
    "# Converting numeric values to object\n",
    "for i in colunas_categoric:\n",
    " ds_categoric[i]=ds_categoric[i].astype(object)\n",
    "ds_categoric.info()"
   ]
  },
  {
   "cell_type": "code",
   "execution_count": 35,
   "id": "6cafbf8b",
   "metadata": {},
   "outputs": [
    {
     "name": "stdout",
     "output_type": "stream",
     "text": [
      "age : 0.0 %\n",
      "trestbps : 0.0 %\n",
      "chol : 0.0 %\n",
      "thalach : 0.0 %\n",
      "oldpeak : 0.0 %\n"
     ]
    }
   ],
   "source": [
    "#counting the amount of null values in numeric columns\n",
    "for i in colunas_numeric:\n",
    "  x = list(ds_floats[i])\n",
    "  dds = 0\n",
    "  for e in x:\n",
    "    if e == '?':\n",
    "      dds+=1\n",
    "  print(i,':',round(dds/len(x),2)*100,'%')"
   ]
  },
  {
   "cell_type": "code",
   "execution_count": 36,
   "id": "703fc979",
   "metadata": {},
   "outputs": [
    {
     "name": "stdout",
     "output_type": "stream",
     "text": [
      "sex : 0.0 %\n",
      "cp : 0.0 %\n",
      "fbs : 10.0 %\n",
      "restecg : 0.0 %\n",
      "exang : 6.0 %\n",
      "slope : 34.0 %\n",
      "ca : 85.0 %\n",
      "thal : 53.0 %\n",
      "num : 27.0 %\n"
     ]
    }
   ],
   "source": [
    "#counting the amount of null values in categoric columns\n",
    "for i in colunas_categoric:\n",
    "  x = list(ds_categoric[i])\n",
    "  dds = 0\n",
    "  for e in x:\n",
    "    if e == '?':\n",
    "      dds+=1\n",
    "  print(i,':',round(dds/len(x),2)*100,'%')"
   ]
  },
  {
   "cell_type": "markdown",
   "id": "37bfdd2b",
   "metadata": {},
   "source": [
    "#### As they have a very large number of null values, the variables 'ca', 'thal', 'slope' were removed from the data set to avoid noise in the forecasts. "
   ]
  },
  {
   "cell_type": "code",
   "execution_count": 37,
   "id": "f21689c2",
   "metadata": {},
   "outputs": [],
   "source": [
    "heart_db.drop(columns=(['ca','thal','slope']), axis=1, inplace=True)"
   ]
  },
  {
   "cell_type": "code",
   "execution_count": 38,
   "id": "8debe7ec",
   "metadata": {},
   "outputs": [
    {
     "data": {
      "image/png": "[encoded data removed]",
      "text/plain": [
       "<Figure size 1800x1440 with 6 Axes>"
      ]
     },
     "metadata": {
      "needs_background": "light"
     },
     "output_type": "display_data"
    }
   ],
   "source": [
    "# Ploting frequencies of float and numeric features\n",
    "fig, axes = plt.subplots(nrows=3, ncols=2, figsize=(25,20))\n",
    "\n",
    "counter = 0 \n",
    "\n",
    "for i in range(3):\n",
    "  for j in range(2):\n",
    "\n",
    "    ax = axes[i][j]\n",
    "\n",
    "    # Plotar somente quando houver dados\n",
    "    if counter < len(colunas_numeric):\n",
    "\n",
    "      ax.hist(ds_floats[colunas_numeric[counter]], bins=15)\n",
    "      ax.set_xlabel(colunas_numeric[counter], fontsize = 20, fontweight = 'bold')\n",
    "      ax.set_ylabel('Frequência')\n",
    "\n",
    "    else:\n",
    "      ax.set_axis_off()\n",
    "\n",
    "    counter += 1\n",
    "\n",
    "plt.show()"
   ]
  },
  {
   "cell_type": "code",
   "execution_count": 39,
   "id": "6179ac6f",
   "metadata": {},
   "outputs": [
    {
     "data": {
      "image/png": "[encoded data removed]",
      "text/plain": [
       "<Figure size 2160x1800 with 9 Axes>"
      ]
     },
     "metadata": {
      "needs_background": "light"
     },
     "output_type": "display_data"
    }
   ],
   "source": [
    "#Ploting frequencies of categoric features\n",
    "fig, axes = plt.subplots(nrows=3, ncols=3, figsize=(30,25))\n",
    "\n",
    "counter = 0 \n",
    "\n",
    "for i in range(3):\n",
    "  for j in range(3):\n",
    "\n",
    "    ax = axes[i][j]\n",
    "\n",
    "    # Plotar somente quando houver dados\n",
    "    if counter < len(colunas_categoric):\n",
    "      alfa=ds_categoric[colunas_categoric[counter]].value_counts().keys().astype(str)\n",
    "      beta=ds_categoric[colunas_categoric[counter]].value_counts()\n",
    "\n",
    "      ax.bar(alfa,beta,width=0.5)\n",
    "      ax.set_xlabel(colunas_categoric[counter], fontsize = 20, fontweight = 'bold')\n",
    "      ax.set_ylabel('Frequência')\n",
    "\n",
    "    else:\n",
    "      ax.set_axis_off()\n",
    "\n",
    "    counter += 1\n",
    "\n",
    "plt.show()"
   ]
  },
  {
   "cell_type": "code",
   "execution_count": 40,
   "id": "31fb8f3b",
   "metadata": {},
   "outputs": [],
   "source": [
    "# Deleting null values from target\n",
    "heart_db=heart_db.query('num != \"?\"')"
   ]
  },
  {
   "cell_type": "code",
   "execution_count": 41,
   "id": "cbd30e72",
   "metadata": {},
   "outputs": [
    {
     "data": {
      "text/plain": [
       "(Counter({0.0: 539, 1.0: 83, '?': 54}),\n",
       " Counter({2.0: 127, 0.0: 438, 1.0: 109, '?': 2}),\n",
       " Counter({1.0: 200, 0.0: 443, '?': 33}))"
      ]
     },
     "execution_count": 41,
     "metadata": {},
     "output_type": "execute_result"
    }
   ],
   "source": [
    "Counter(heart_db['fbs']),Counter(heart_db['restecg']),Counter(heart_db['exang'])"
   ]
  },
  {
   "cell_type": "markdown",
   "id": "83779e04",
   "metadata": {},
   "source": [
    "#### The columns that had few null values ​​only needed to have their rows deleted."
   ]
  },
  {
   "cell_type": "code",
   "execution_count": 42,
   "id": "6a800851",
   "metadata": {},
   "outputs": [],
   "source": [
    "heart_db=heart_db[heart_db['exang']!='?']"
   ]
  },
  {
   "cell_type": "code",
   "execution_count": 43,
   "id": "4d28878d",
   "metadata": {},
   "outputs": [],
   "source": [
    "heart_db=heart_db[heart_db['fbs']!='?']"
   ]
  },
  {
   "cell_type": "code",
   "execution_count": 44,
   "id": "a321c7a5",
   "metadata": {},
   "outputs": [],
   "source": [
    "heart_db=heart_db[heart_db['restecg']!='?']"
   ]
  },
  {
   "cell_type": "code",
   "execution_count": 45,
   "id": "19eee952",
   "metadata": {},
   "outputs": [
    {
     "data": {
      "text/html": [
       "<div>\n",
       "<style scoped>\n",
       "    .dataframe tbody tr th:only-of-type {\n",
       "        vertical-align: middle;\n",
       "    }\n",
       "\n",
       "    .dataframe tbody tr th {\n",
       "        vertical-align: top;\n",
       "    }\n",
       "\n",
       "    .dataframe thead th {\n",
       "        text-align: right;\n",
       "    }\n",
       "</style>\n",
       "<table border=\"1\" class=\"dataframe\">\n",
       "  <thead>\n",
       "    <tr style=\"text-align: right;\">\n",
       "      <th></th>\n",
       "      <th>age</th>\n",
       "      <th>sex</th>\n",
       "      <th>cp</th>\n",
       "      <th>trestbps</th>\n",
       "      <th>chol</th>\n",
       "      <th>fbs</th>\n",
       "      <th>restecg</th>\n",
       "      <th>thalach</th>\n",
       "      <th>exang</th>\n",
       "      <th>oldpeak</th>\n",
       "      <th>num</th>\n",
       "    </tr>\n",
       "  </thead>\n",
       "  <tbody>\n",
       "    <tr>\n",
       "      <th>1</th>\n",
       "      <td>67</td>\n",
       "      <td>1</td>\n",
       "      <td>4</td>\n",
       "      <td>120.0</td>\n",
       "      <td>229.0</td>\n",
       "      <td>0.0</td>\n",
       "      <td>2.0</td>\n",
       "      <td>129.0</td>\n",
       "      <td>1.0</td>\n",
       "      <td>2.6</td>\n",
       "      <td>Cardíaco</td>\n",
       "    </tr>\n",
       "    <tr>\n",
       "      <th>2</th>\n",
       "      <td>37</td>\n",
       "      <td>1</td>\n",
       "      <td>3</td>\n",
       "      <td>130.0</td>\n",
       "      <td>250.0</td>\n",
       "      <td>0.0</td>\n",
       "      <td>0.0</td>\n",
       "      <td>187.0</td>\n",
       "      <td>0.0</td>\n",
       "      <td>3.5</td>\n",
       "      <td>Nao Cardíaco</td>\n",
       "    </tr>\n",
       "    <tr>\n",
       "      <th>3</th>\n",
       "      <td>41</td>\n",
       "      <td>0</td>\n",
       "      <td>2</td>\n",
       "      <td>130.0</td>\n",
       "      <td>204.0</td>\n",
       "      <td>0.0</td>\n",
       "      <td>2.0</td>\n",
       "      <td>172.0</td>\n",
       "      <td>0.0</td>\n",
       "      <td>1.4</td>\n",
       "      <td>Nao Cardíaco</td>\n",
       "    </tr>\n",
       "    <tr>\n",
       "      <th>4</th>\n",
       "      <td>56</td>\n",
       "      <td>1</td>\n",
       "      <td>2</td>\n",
       "      <td>120.0</td>\n",
       "      <td>236.0</td>\n",
       "      <td>0.0</td>\n",
       "      <td>0.0</td>\n",
       "      <td>178.0</td>\n",
       "      <td>0.0</td>\n",
       "      <td>0.8</td>\n",
       "      <td>Nao Cardíaco</td>\n",
       "    </tr>\n",
       "    <tr>\n",
       "      <th>6</th>\n",
       "      <td>57</td>\n",
       "      <td>0</td>\n",
       "      <td>4</td>\n",
       "      <td>120.0</td>\n",
       "      <td>354.0</td>\n",
       "      <td>0.0</td>\n",
       "      <td>0.0</td>\n",
       "      <td>163.0</td>\n",
       "      <td>1.0</td>\n",
       "      <td>0.6</td>\n",
       "      <td>Nao Cardíaco</td>\n",
       "    </tr>\n",
       "    <tr>\n",
       "      <th>...</th>\n",
       "      <td>...</td>\n",
       "      <td>...</td>\n",
       "      <td>...</td>\n",
       "      <td>...</td>\n",
       "      <td>...</td>\n",
       "      <td>...</td>\n",
       "      <td>...</td>\n",
       "      <td>...</td>\n",
       "      <td>...</td>\n",
       "      <td>...</td>\n",
       "      <td>...</td>\n",
       "    </tr>\n",
       "    <tr>\n",
       "      <th>188</th>\n",
       "      <td>68</td>\n",
       "      <td>1</td>\n",
       "      <td>3</td>\n",
       "      <td>134.0</td>\n",
       "      <td>254.0</td>\n",
       "      <td>1.0</td>\n",
       "      <td>0.0</td>\n",
       "      <td>151.0</td>\n",
       "      <td>1.0</td>\n",
       "      <td>0.0</td>\n",
       "      <td>Nao Cardíaco</td>\n",
       "    </tr>\n",
       "    <tr>\n",
       "      <th>189</th>\n",
       "      <td>51</td>\n",
       "      <td>0</td>\n",
       "      <td>4</td>\n",
       "      <td>114.0</td>\n",
       "      <td>258.0</td>\n",
       "      <td>1.0</td>\n",
       "      <td>2.0</td>\n",
       "      <td>96.0</td>\n",
       "      <td>0.0</td>\n",
       "      <td>1.0</td>\n",
       "      <td>Nao Cardíaco</td>\n",
       "    </tr>\n",
       "    <tr>\n",
       "      <th>192</th>\n",
       "      <td>62</td>\n",
       "      <td>1</td>\n",
       "      <td>4</td>\n",
       "      <td>158.0</td>\n",
       "      <td>170.0</td>\n",
       "      <td>0.0</td>\n",
       "      <td>1.0</td>\n",
       "      <td>138.0</td>\n",
       "      <td>1.0</td>\n",
       "      <td>0.0</td>\n",
       "      <td>Cardíaco</td>\n",
       "    </tr>\n",
       "    <tr>\n",
       "      <th>194</th>\n",
       "      <td>54</td>\n",
       "      <td>0</td>\n",
       "      <td>4</td>\n",
       "      <td>127.0</td>\n",
       "      <td>333.0</td>\n",
       "      <td>1.0</td>\n",
       "      <td>1.0</td>\n",
       "      <td>154.0</td>\n",
       "      <td>0.0</td>\n",
       "      <td>0.0</td>\n",
       "      <td>Cardíaco</td>\n",
       "    </tr>\n",
       "    <tr>\n",
       "      <th>198</th>\n",
       "      <td>62</td>\n",
       "      <td>1</td>\n",
       "      <td>2</td>\n",
       "      <td>120.0</td>\n",
       "      <td>254.0</td>\n",
       "      <td>0.0</td>\n",
       "      <td>2.0</td>\n",
       "      <td>93.0</td>\n",
       "      <td>1.0</td>\n",
       "      <td>0.0</td>\n",
       "      <td>Cardíaco</td>\n",
       "    </tr>\n",
       "  </tbody>\n",
       "</table>\n",
       "<p>588 rows × 11 columns</p>\n",
       "</div>"
      ],
      "text/plain": [
       "     age  sex  cp  trestbps   chol  fbs restecg  thalach exang  oldpeak  \\\n",
       "1     67    1   4     120.0  229.0  0.0     2.0    129.0   1.0      2.6   \n",
       "2     37    1   3     130.0  250.0  0.0     0.0    187.0   0.0      3.5   \n",
       "3     41    0   2     130.0  204.0  0.0     2.0    172.0   0.0      1.4   \n",
       "4     56    1   2     120.0  236.0  0.0     0.0    178.0   0.0      0.8   \n",
       "6     57    0   4     120.0  354.0  0.0     0.0    163.0   1.0      0.6   \n",
       "..   ...  ...  ..       ...    ...  ...     ...      ...   ...      ...   \n",
       "188   68    1   3     134.0  254.0  1.0     0.0    151.0   1.0      0.0   \n",
       "189   51    0   4     114.0  258.0  1.0     2.0     96.0   0.0      1.0   \n",
       "192   62    1   4     158.0  170.0  0.0     1.0    138.0   1.0      0.0   \n",
       "194   54    0   4     127.0  333.0  1.0     1.0    154.0   0.0      0.0   \n",
       "198   62    1   2     120.0  254.0  0.0     2.0     93.0   1.0      0.0   \n",
       "\n",
       "              num  \n",
       "1        Cardíaco  \n",
       "2    Nao Cardíaco  \n",
       "3    Nao Cardíaco  \n",
       "4    Nao Cardíaco  \n",
       "6    Nao Cardíaco  \n",
       "..            ...  \n",
       "188  Nao Cardíaco  \n",
       "189  Nao Cardíaco  \n",
       "192      Cardíaco  \n",
       "194      Cardíaco  \n",
       "198      Cardíaco  \n",
       "\n",
       "[588 rows x 11 columns]"
      ]
     },
     "execution_count": 45,
     "metadata": {},
     "output_type": "execute_result"
    }
   ],
   "source": [
    "heart_db"
   ]
  },
  {
   "cell_type": "code",
   "execution_count": 46,
   "id": "3119722f",
   "metadata": {},
   "outputs": [],
   "source": [
    "heart_db.reset_index(inplace=True, drop=True)"
   ]
  },
  {
   "cell_type": "code",
   "execution_count": 47,
   "id": "6d0b46b0",
   "metadata": {},
   "outputs": [
    {
     "data": {
      "text/html": [
       "<div>\n",
       "<style scoped>\n",
       "    .dataframe tbody tr th:only-of-type {\n",
       "        vertical-align: middle;\n",
       "    }\n",
       "\n",
       "    .dataframe tbody tr th {\n",
       "        vertical-align: top;\n",
       "    }\n",
       "\n",
       "    .dataframe thead th {\n",
       "        text-align: right;\n",
       "    }\n",
       "</style>\n",
       "<table border=\"1\" class=\"dataframe\">\n",
       "  <thead>\n",
       "    <tr style=\"text-align: right;\">\n",
       "      <th></th>\n",
       "      <th>age</th>\n",
       "      <th>sex</th>\n",
       "      <th>cp</th>\n",
       "      <th>trestbps</th>\n",
       "      <th>chol</th>\n",
       "      <th>fbs</th>\n",
       "      <th>restecg</th>\n",
       "      <th>thalach</th>\n",
       "      <th>exang</th>\n",
       "      <th>oldpeak</th>\n",
       "      <th>num</th>\n",
       "    </tr>\n",
       "  </thead>\n",
       "  <tbody>\n",
       "    <tr>\n",
       "      <th>0</th>\n",
       "      <td>67</td>\n",
       "      <td>1</td>\n",
       "      <td>4</td>\n",
       "      <td>120.0</td>\n",
       "      <td>229.0</td>\n",
       "      <td>0.0</td>\n",
       "      <td>2.0</td>\n",
       "      <td>129.0</td>\n",
       "      <td>1.0</td>\n",
       "      <td>2.6</td>\n",
       "      <td>Cardíaco</td>\n",
       "    </tr>\n",
       "    <tr>\n",
       "      <th>1</th>\n",
       "      <td>37</td>\n",
       "      <td>1</td>\n",
       "      <td>3</td>\n",
       "      <td>130.0</td>\n",
       "      <td>250.0</td>\n",
       "      <td>0.0</td>\n",
       "      <td>0.0</td>\n",
       "      <td>187.0</td>\n",
       "      <td>0.0</td>\n",
       "      <td>3.5</td>\n",
       "      <td>Nao Cardíaco</td>\n",
       "    </tr>\n",
       "    <tr>\n",
       "      <th>2</th>\n",
       "      <td>41</td>\n",
       "      <td>0</td>\n",
       "      <td>2</td>\n",
       "      <td>130.0</td>\n",
       "      <td>204.0</td>\n",
       "      <td>0.0</td>\n",
       "      <td>2.0</td>\n",
       "      <td>172.0</td>\n",
       "      <td>0.0</td>\n",
       "      <td>1.4</td>\n",
       "      <td>Nao Cardíaco</td>\n",
       "    </tr>\n",
       "    <tr>\n",
       "      <th>3</th>\n",
       "      <td>56</td>\n",
       "      <td>1</td>\n",
       "      <td>2</td>\n",
       "      <td>120.0</td>\n",
       "      <td>236.0</td>\n",
       "      <td>0.0</td>\n",
       "      <td>0.0</td>\n",
       "      <td>178.0</td>\n",
       "      <td>0.0</td>\n",
       "      <td>0.8</td>\n",
       "      <td>Nao Cardíaco</td>\n",
       "    </tr>\n",
       "    <tr>\n",
       "      <th>4</th>\n",
       "      <td>57</td>\n",
       "      <td>0</td>\n",
       "      <td>4</td>\n",
       "      <td>120.0</td>\n",
       "      <td>354.0</td>\n",
       "      <td>0.0</td>\n",
       "      <td>0.0</td>\n",
       "      <td>163.0</td>\n",
       "      <td>1.0</td>\n",
       "      <td>0.6</td>\n",
       "      <td>Nao Cardíaco</td>\n",
       "    </tr>\n",
       "    <tr>\n",
       "      <th>...</th>\n",
       "      <td>...</td>\n",
       "      <td>...</td>\n",
       "      <td>...</td>\n",
       "      <td>...</td>\n",
       "      <td>...</td>\n",
       "      <td>...</td>\n",
       "      <td>...</td>\n",
       "      <td>...</td>\n",
       "      <td>...</td>\n",
       "      <td>...</td>\n",
       "      <td>...</td>\n",
       "    </tr>\n",
       "    <tr>\n",
       "      <th>583</th>\n",
       "      <td>68</td>\n",
       "      <td>1</td>\n",
       "      <td>3</td>\n",
       "      <td>134.0</td>\n",
       "      <td>254.0</td>\n",
       "      <td>1.0</td>\n",
       "      <td>0.0</td>\n",
       "      <td>151.0</td>\n",
       "      <td>1.0</td>\n",
       "      <td>0.0</td>\n",
       "      <td>Nao Cardíaco</td>\n",
       "    </tr>\n",
       "    <tr>\n",
       "      <th>584</th>\n",
       "      <td>51</td>\n",
       "      <td>0</td>\n",
       "      <td>4</td>\n",
       "      <td>114.0</td>\n",
       "      <td>258.0</td>\n",
       "      <td>1.0</td>\n",
       "      <td>2.0</td>\n",
       "      <td>96.0</td>\n",
       "      <td>0.0</td>\n",
       "      <td>1.0</td>\n",
       "      <td>Nao Cardíaco</td>\n",
       "    </tr>\n",
       "    <tr>\n",
       "      <th>585</th>\n",
       "      <td>62</td>\n",
       "      <td>1</td>\n",
       "      <td>4</td>\n",
       "      <td>158.0</td>\n",
       "      <td>170.0</td>\n",
       "      <td>0.0</td>\n",
       "      <td>1.0</td>\n",
       "      <td>138.0</td>\n",
       "      <td>1.0</td>\n",
       "      <td>0.0</td>\n",
       "      <td>Cardíaco</td>\n",
       "    </tr>\n",
       "    <tr>\n",
       "      <th>586</th>\n",
       "      <td>54</td>\n",
       "      <td>0</td>\n",
       "      <td>4</td>\n",
       "      <td>127.0</td>\n",
       "      <td>333.0</td>\n",
       "      <td>1.0</td>\n",
       "      <td>1.0</td>\n",
       "      <td>154.0</td>\n",
       "      <td>0.0</td>\n",
       "      <td>0.0</td>\n",
       "      <td>Cardíaco</td>\n",
       "    </tr>\n",
       "    <tr>\n",
       "      <th>587</th>\n",
       "      <td>62</td>\n",
       "      <td>1</td>\n",
       "      <td>2</td>\n",
       "      <td>120.0</td>\n",
       "      <td>254.0</td>\n",
       "      <td>0.0</td>\n",
       "      <td>2.0</td>\n",
       "      <td>93.0</td>\n",
       "      <td>1.0</td>\n",
       "      <td>0.0</td>\n",
       "      <td>Cardíaco</td>\n",
       "    </tr>\n",
       "  </tbody>\n",
       "</table>\n",
       "<p>588 rows × 11 columns</p>\n",
       "</div>"
      ],
      "text/plain": [
       "     age  sex  cp  trestbps   chol  fbs restecg  thalach exang  oldpeak  \\\n",
       "0     67    1   4     120.0  229.0  0.0     2.0    129.0   1.0      2.6   \n",
       "1     37    1   3     130.0  250.0  0.0     0.0    187.0   0.0      3.5   \n",
       "2     41    0   2     130.0  204.0  0.0     2.0    172.0   0.0      1.4   \n",
       "3     56    1   2     120.0  236.0  0.0     0.0    178.0   0.0      0.8   \n",
       "4     57    0   4     120.0  354.0  0.0     0.0    163.0   1.0      0.6   \n",
       "..   ...  ...  ..       ...    ...  ...     ...      ...   ...      ...   \n",
       "583   68    1   3     134.0  254.0  1.0     0.0    151.0   1.0      0.0   \n",
       "584   51    0   4     114.0  258.0  1.0     2.0     96.0   0.0      1.0   \n",
       "585   62    1   4     158.0  170.0  0.0     1.0    138.0   1.0      0.0   \n",
       "586   54    0   4     127.0  333.0  1.0     1.0    154.0   0.0      0.0   \n",
       "587   62    1   2     120.0  254.0  0.0     2.0     93.0   1.0      0.0   \n",
       "\n",
       "              num  \n",
       "0        Cardíaco  \n",
       "1    Nao Cardíaco  \n",
       "2    Nao Cardíaco  \n",
       "3    Nao Cardíaco  \n",
       "4    Nao Cardíaco  \n",
       "..            ...  \n",
       "583  Nao Cardíaco  \n",
       "584  Nao Cardíaco  \n",
       "585      Cardíaco  \n",
       "586      Cardíaco  \n",
       "587      Cardíaco  \n",
       "\n",
       "[588 rows x 11 columns]"
      ]
     },
     "execution_count": 47,
     "metadata": {},
     "output_type": "execute_result"
    }
   ],
   "source": [
    "heart_db"
   ]
  },
  {
   "cell_type": "code",
   "execution_count": 48,
   "id": "5d5c1c8b",
   "metadata": {},
   "outputs": [],
   "source": [
    "#heart_db.to_csv(\"heart_data.csv\")"
   ]
  },
  {
   "cell_type": "code",
   "execution_count": null,
   "id": "b812822d",
   "metadata": {},
   "outputs": [],
   "source": []
  }
 ],
 "metadata": {
  "kernelspec": {
   "display_name": "Python 3 (ipykernel)",
   "language": "python",
   "name": "python3"
  },
  "language_info": {
   "codemirror_mode": {
    "name": "ipython",
    "version": 3
   },
   "file_extension": ".py",
   "mimetype": "text/x-python",
   "name": "python",
   "nbconvert_exporter": "python",
   "pygments_lexer": "ipython3",
   "version": "3.9.12"
  }
 },
 "nbformat": 4,
 "nbformat_minor": 5
}
